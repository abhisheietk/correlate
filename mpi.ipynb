{
 "cells": [
  {
   "cell_type": "code",
   "execution_count": 1,
   "metadata": {
    "collapsed": false
   },
   "outputs": [
    {
     "name": "stdout",
     "output_type": "stream",
     "text": [
      "Overwriting psum.py\n"
     ]
    }
   ],
   "source": [
    "%%writefile psum.py\n",
    "from openmpi.mpi4py import MPI\n",
    "import numpy as np\n",
    "\n",
    "def psum(a):\n",
    "    locsum = np.sum(a)\n",
    "    rcvBuf = np.array(0.0,'d')\n",
    "    MPI.COMM_WORLD.Allreduce([locsum, MPI.DOUBLE],\n",
    "        [rcvBuf, MPI.DOUBLE],\n",
    "        op=MPI.SUM)\n",
    "    return rcvBuf\n",
    "\n"
   ]
  },
  {
   "cell_type": "code",
   "execution_count": 9,
   "metadata": {
    "collapsed": false
   },
   "outputs": [],
   "source": [
    "from ipyparallel import Client\n",
    "from openmpi.mpi4py import MPI\n",
    "import numpy as np"
   ]
  },
  {
   "cell_type": "code",
   "execution_count": 10,
   "metadata": {
    "collapsed": false
   },
   "outputs": [],
   "source": [
    "c = Client(profile='default')"
   ]
  },
  {
   "cell_type": "code",
   "execution_count": 11,
   "metadata": {
    "collapsed": false
   },
   "outputs": [
    {
     "name": "stdout",
     "output_type": "stream",
     "text": [
      "<DirectView [0, 1, 2, 3]>\n"
     ]
    }
   ],
   "source": [
    "view = c[:]\n",
    "print (view)"
   ]
  },
  {
   "cell_type": "code",
   "execution_count": 12,
   "metadata": {
    "collapsed": true
   },
   "outputs": [],
   "source": [
    "view.activate()"
   ]
  },
  {
   "cell_type": "code",
   "execution_count": 13,
   "metadata": {
    "collapsed": false
   },
   "outputs": [
    {
     "data": {
      "text/plain": [
       "<AsyncResult: execute>"
      ]
     },
     "execution_count": 13,
     "metadata": {},
     "output_type": "execute_result"
    }
   ],
   "source": [
    "view.run('psum.py')"
   ]
  },
  {
   "cell_type": "code",
   "execution_count": 14,
   "metadata": {
    "collapsed": false
   },
   "outputs": [
    {
     "data": {
      "text/plain": [
       "<AsyncResult: scatter>"
      ]
     },
     "execution_count": 14,
     "metadata": {},
     "output_type": "execute_result"
    }
   ],
   "source": [
    "view.scatter('a',np.arange(200,dtype='float'))"
   ]
  },
  {
   "cell_type": "code",
   "execution_count": 15,
   "metadata": {
    "collapsed": false
   },
   "outputs": [
    {
     "data": {
      "text/plain": [
       "[array([  0.,   1.,   2.,   3.,   4.,   5.,   6.,   7.,   8.,   9.,  10.,\n",
       "         11.,  12.,  13.,  14.,  15.,  16.,  17.,  18.,  19.,  20.,  21.,\n",
       "         22.,  23.,  24.,  25.,  26.,  27.,  28.,  29.,  30.,  31.,  32.,\n",
       "         33.,  34.,  35.,  36.,  37.,  38.,  39.,  40.,  41.,  42.,  43.,\n",
       "         44.,  45.,  46.,  47.,  48.,  49.]),\n",
       " array([ 50.,  51.,  52.,  53.,  54.,  55.,  56.,  57.,  58.,  59.,  60.,\n",
       "         61.,  62.,  63.,  64.,  65.,  66.,  67.,  68.,  69.,  70.,  71.,\n",
       "         72.,  73.,  74.,  75.,  76.,  77.,  78.,  79.,  80.,  81.,  82.,\n",
       "         83.,  84.,  85.,  86.,  87.,  88.,  89.,  90.,  91.,  92.,  93.,\n",
       "         94.,  95.,  96.,  97.,  98.,  99.]),\n",
       " array([ 100.,  101.,  102.,  103.,  104.,  105.,  106.,  107.,  108.,\n",
       "         109.,  110.,  111.,  112.,  113.,  114.,  115.,  116.,  117.,\n",
       "         118.,  119.,  120.,  121.,  122.,  123.,  124.,  125.,  126.,\n",
       "         127.,  128.,  129.,  130.,  131.,  132.,  133.,  134.,  135.,\n",
       "         136.,  137.,  138.,  139.,  140.,  141.,  142.,  143.,  144.,\n",
       "         145.,  146.,  147.,  148.,  149.]),\n",
       " array([ 150.,  151.,  152.,  153.,  154.,  155.,  156.,  157.,  158.,\n",
       "         159.,  160.,  161.,  162.,  163.,  164.,  165.,  166.,  167.,\n",
       "         168.,  169.,  170.,  171.,  172.,  173.,  174.,  175.,  176.,\n",
       "         177.,  178.,  179.,  180.,  181.,  182.,  183.,  184.,  185.,\n",
       "         186.,  187.,  188.,  189.,  190.,  191.,  192.,  193.,  194.,\n",
       "         195.,  196.,  197.,  198.,  199.])]"
      ]
     },
     "execution_count": 15,
     "metadata": {},
     "output_type": "execute_result"
    }
   ],
   "source": [
    "view['a']"
   ]
  },
  {
   "cell_type": "code",
   "execution_count": 16,
   "metadata": {
    "collapsed": false
   },
   "outputs": [
    {
     "data": {
      "text/plain": [
       "<AsyncResult: execute>"
      ]
     },
     "execution_count": 16,
     "metadata": {},
     "output_type": "execute_result"
    }
   ],
   "source": [
    "%px totalsum = psum(a)"
   ]
  },
  {
   "cell_type": "code",
   "execution_count": 17,
   "metadata": {
    "collapsed": false
   },
   "outputs": [],
   "source": [
    "r = view['totalsum']"
   ]
  },
  {
   "cell_type": "code",
   "execution_count": 18,
   "metadata": {
    "collapsed": false
   },
   "outputs": [
    {
     "name": "stdout",
     "output_type": "stream",
     "text": [
      "1225.0\n"
     ]
    }
   ],
   "source": [
    "print(r[0])"
   ]
  },
  {
   "cell_type": "code",
   "execution_count": 19,
   "metadata": {
    "collapsed": false
   },
   "outputs": [
    {
     "name": "stdout",
     "output_type": "stream",
     "text": [
      "[array(1225.0), array(3725.0), array(6225.0), array(8725.0)]\n"
     ]
    }
   ],
   "source": [
    "print(r)"
   ]
  },
  {
   "cell_type": "code",
   "execution_count": 7,
   "metadata": {
    "collapsed": false
   },
   "outputs": [
    {
     "name": "stdout",
     "output_type": "stream",
     "text": [
      "Overwriting hello.py\n"
     ]
    }
   ],
   "source": [
    "%%writefile hello.py\n",
    "from mpi4py import MPI\n",
    "from mpi4py.MPI import ANY_SOURCE\n",
    "import numpy as np\n",
    "\n",
    "comm = MPI.COMM_WORLD\n",
    "rank = comm.Get_rank()\n",
    "threads = comm.Get_size()\n",
    "data = np.zeros(1)\n",
    "if rank == 0:\n",
    "    for i in range(threads):\n",
    "        data[0] = i*100\n",
    "        MPI.COMM_WORLD.Send(data, dest = i)\n",
    "else:\n",
    "    print(data[0])\n",
    "    MPI.COMM_WORLD.Recv(data, source = 0)\n",
    "    print(data[0])\n",
    "    data[0] = data[0] + 4\n",
    "    print(\"hello world from process \", rank, threads)\n",
    "    \n",
    "    \n",
    "    MPI.COMM_WORLD.Send(data, dest = 0)\n",
    "    \n",
    "if rank == 0:\n",
    "    for i in range(threads):\n",
    "        MPI.COMM_WORLD.Recv(data, source = ANY_SOURCE)\n",
    "        print(data[0])\n",
    "        "
   ]
  },
  {
   "cell_type": "code",
   "execution_count": 8,
   "metadata": {
    "collapsed": false
   },
   "outputs": [
    {
     "name": "stdout",
     "output_type": "stream",
     "text": [
      "0.0\n",
      "100.0\n",
      "0.0\n",
      "('hello world from process ', 1, 4)\n",
      "104.0\n",
      "0.0\n",
      "200.0\n",
      "('hello world from process ', 2, 4)\n",
      "204.0\n",
      "0.0\n",
      "300.0\n",
      "('hello world from process ', 3, 4)\n",
      "304.0\n"
     ]
    }
   ],
   "source": [
    "!mpiexec  -n 4 python hello.py"
   ]
  },
  {
   "cell_type": "code",
   "execution_count": 18,
   "metadata": {
    "collapsed": false
   },
   "outputs": [
    {
     "data": {
      "text/plain": [
       "True"
      ]
     },
     "execution_count": 18,
     "metadata": {},
     "output_type": "execute_result"
    }
   ],
   "source": [
    "import numpy as np\n",
    "from ipyparallel import Client\n",
    "\n",
    "c = Client(profile='default')\n",
    "dview = c[:]\n",
    "\n",
    "A = np.random.random(64)\n",
    "\n",
    "@dview.parallel(block=True)\n",
    "def pmul(A,B):\n",
    "    return (A*B)\n",
    "\n",
    "C_local = A*A\n",
    "C_remote = pmul(A,A)\n",
    "(C_local == C_remote).all()"
   ]
  },
  {
   "cell_type": "code",
   "execution_count": 17,
   "metadata": {
    "collapsed": false
   },
   "outputs": [
    {
     "name": "stdout",
     "output_type": "stream",
     "text": [
      "[  4.88651963e-03   1.52182823e-01   4.48463589e-01   4.54994437e-02\n",
      "   2.59274086e-01   6.17351127e-02   7.01398386e-03   4.71226081e-01\n",
      "   7.13436721e-01   1.02745301e-01   1.73863392e-02   2.45134090e-01\n",
      "   7.49513788e-03   1.24371576e-01   9.20788916e-01   6.75025199e-01\n",
      "   3.96993334e-01   2.22785334e-01   4.40018565e-01   3.12086402e-02\n",
      "   1.33680054e-01   1.43382277e-03   2.14089253e-01   9.93123606e-01\n",
      "   9.20783406e-01   3.56604431e-02   1.21113103e-01   1.69397882e-01\n",
      "   5.87813486e-01   6.44559009e-01   1.50275858e-02   6.62652037e-03\n",
      "   1.40887367e-01   8.61745293e-01   3.04769857e-01   7.75474250e-01\n",
      "   2.10810076e-02   9.39368933e-01   3.32233911e-01   3.35828527e-01\n",
      "   2.46173052e-01   8.26162938e-01   1.75610076e-02   2.47386974e-02\n",
      "   1.67524211e-01   2.39128363e-01   9.91380460e-01   3.57577504e-01\n",
      "   1.69163270e-01   9.76310577e-02   4.99768103e-01   5.43170403e-02\n",
      "   4.52298390e-01   1.77651903e-01   2.30299017e-01   7.83056593e-01\n",
      "   4.63485024e-04   8.31674146e-02   4.07521011e-01   5.27380842e-02\n",
      "   2.53008713e-01   2.34071439e-02   1.95918249e-02   9.23815299e-01]\n"
     ]
    }
   ],
   "source": [
    "print (C_remote)"
   ]
  },
  {
   "cell_type": "code",
   "execution_count": 22,
   "metadata": {
    "collapsed": false
   },
   "outputs": [
    {
     "data": {
      "text/plain": [
       "[range(0, 2), range(2, 4), range(4, 6), range(6, 8)]"
      ]
     },
     "execution_count": 22,
     "metadata": {},
     "output_type": "execute_result"
    }
   ],
   "source": [
    "@dview.parallel(block=True)\n",
    "def echo(x):\n",
    "    return x\n",
    "\n",
    "echo(range(8))"
   ]
  },
  {
   "cell_type": "code",
   "execution_count": 24,
   "metadata": {
    "collapsed": false
   },
   "outputs": [
    {
     "data": {
      "text/plain": [
       "[0, 1, 2, 3, 4, 5, 6, 7]"
      ]
     },
     "execution_count": 24,
     "metadata": {},
     "output_type": "execute_result"
    }
   ],
   "source": [
    "echo.map(range(8))"
   ]
  },
  {
   "cell_type": "code",
   "execution_count": 25,
   "metadata": {
    "collapsed": false
   },
   "outputs": [
    {
     "name": "stdout",
     "output_type": "stream",
     "text": [
      "range(0, 10)\n"
     ]
    }
   ],
   "source": [
    "a = range(100)\n",
    "print(a[0:10])"
   ]
  },
  {
   "cell_type": "code",
   "execution_count": null,
   "metadata": {
    "collapsed": true
   },
   "outputs": [],
   "source": []
  }
 ],
 "metadata": {
  "kernelspec": {
   "display_name": "Python 3",
   "language": "python",
   "name": "python3"
  },
  "language_info": {
   "codemirror_mode": {
    "name": "ipython",
    "version": 3
   },
   "file_extension": ".py",
   "mimetype": "text/x-python",
   "name": "python",
   "nbconvert_exporter": "python",
   "pygments_lexer": "ipython3",
   "version": "3.5.1"
  }
 },
 "nbformat": 4,
 "nbformat_minor": 1
}
