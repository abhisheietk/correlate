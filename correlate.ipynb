{
 "cells": [
  {
   "cell_type": "code",
   "execution_count": 1,
   "metadata": {
    "collapsed": true
   },
   "outputs": [],
   "source": [
    "import matplotlib\n",
    "import numpy as np\n",
    "import matplotlib.pyplot as plt\n",
    "import pickle\n",
    "import os\n",
    "\n",
    "def visualiseCorr(corr):\n",
    "    fig, ax = plt.subplots(figsize=(40,15))\n",
    "    image = corr\n",
    "    ax.imshow(image, cmap=plt.cm.gray, interpolation='nearest')\n",
    "    ax.set_title('dropped spines')\n",
    "    \n",
    "    # Move left and bottom spines outward by 10 points\n",
    "    ax.spines['left'].set_position(('outward', 10))\n",
    "    ax.spines['bottom'].set_position(('outward', 10))\n",
    "    # Hide the right and top spines\n",
    "    ax.spines['right'].set_visible(False)\n",
    "    ax.spines['top'].set_visible(False)\n",
    "    # Only show ticks on the left and bottom spines\n",
    "    ax.yaxis.set_ticks_position('left')\n",
    "    ax.xaxis.set_ticks_position('bottom')\n",
    "    plt.show()\n",
    "    \n",
    "def threshhold(corr, thld):\n",
    "    w = len(corr[0])\n",
    "    h = len(corr)\n",
    "    tcorr = np.zeros((h, w))\n",
    "    for i_index, i in enumerate(corr):\n",
    "        for j_index, j in enumerate(i):\n",
    "            if j < thld:\n",
    "                tcorr[i_index][j_index] = 0\n",
    "            else:\n",
    "                tcorr[i_index][j_index] = j\n",
    "    return tcorr\n",
    "    \n",
    "def postprocess(corr, windowsize):\n",
    "    w = len(corr[0])\n",
    "    h = len(corr)\n",
    "    #print (w,h)\n",
    "    M = 4\n",
    "    ncorr = np.zeros((M*h, 2*w+windowsize))\n",
    "    for i,j in enumerate(corr):\n",
    "        #print (len(ncorr[i][-w:]), len(j))\n",
    "        for k in range(M):\n",
    "            ncorr[i*M+k][-w-((1+i)*windowsize):-(1+i)*windowsize] = j\n",
    "        #print(len(ncorr[i][-w-((1+i)*windowsize):-(1+i)*windowsize]))\n",
    "    \n",
    "    return(ncorr)"
   ]
  },
  {
   "cell_type": "code",
   "execution_count": 2,
   "metadata": {
    "collapsed": false
   },
   "outputs": [],
   "source": [
    "from ipyparallel import Client\n",
    "import numpy as np\n",
    "c = Client(profile='default')\n",
    "dview = c[:]\n",
    "\n",
    "@dview.parallel(block=True)\n",
    "def correlateblock(data):\n",
    "    import numpy as np\n",
    "    res = []\n",
    "    for d in data:\n",
    "        a = d['a']\n",
    "        b = d['b']\n",
    "        block = d['block']\n",
    "        #if not block % 5:\n",
    "        #print(block)\n",
    "        windowsize = d['windowsize']\n",
    "        corr = np.zeros(len(a)-windowsize)\n",
    "        y = b[block*windowsize:(1+block)*windowsize]\n",
    "        for j in range(len(a)-windowsize):\n",
    "            x = a[0+j:windowsize+j]\n",
    "            corr[j] = np.corrcoef(x, y)[0,1]\n",
    "            #if not j % 5:\n",
    "            #    print(j, end='')\n",
    "        res.append({'block':block, 'corr':corr})\n",
    "    return res\n",
    "    \n",
    "\n",
    "def correlate(a, b, windowsize): #, dump=\"dump\", start=0, stop=0):\n",
    "    corr = np.zeros((int(len(b)/windowsize), len(a)-windowsize))\n",
    "    totalJobs = int(len(b)/windowsize) * len(a)-windowsize\n",
    "    \n",
    "    \n",
    "    jobs = [{'a':a, 'b':b, 'block':i, 'windowsize':windowsize} for i in range(0, int(len(b)/windowsize))]    \n",
    "    print(\"total jobs:\", len(jobs))#print([i for i in range(0, int(len(b)/windowsize))])\n",
    "    chunk = 4\n",
    "    for i in range(int(len(jobs)/chunk)):\n",
    "        print(4*i,4*(i+1))\n",
    "        data = correlateblock(jobs[4*i:4*(i+1)])\n",
    "        for i in data:\n",
    "            corr[i['block']] = i['corr']\n",
    "    return corr"
   ]
  },
  {
   "cell_type": "code",
   "execution_count": 3,
   "metadata": {
    "collapsed": false
   },
   "outputs": [],
   "source": [
    "length = 1000\n",
    "windowsize = 40\n",
    "a = np.random.uniform(size=(length))\n",
    "b = np.random.uniform(size=(length))\n",
    "b[-500:] = a[-500:]\n",
    "blocks = int(len(b)/windowsize)"
   ]
  },
  {
   "cell_type": "code",
   "execution_count": 4,
   "metadata": {
    "collapsed": false
   },
   "outputs": [
    {
     "name": "stdout",
     "output_type": "stream",
     "text": [
      "total jobs: 25\n",
      "0 4\n",
      "4 8\n",
      "8 12\n",
      "12 16\n",
      "16 20\n",
      "20 24\n"
     ]
    }
   ],
   "source": [
    "corr = correlate(a, a, windowsize)"
   ]
  },
  {
   "cell_type": "code",
   "execution_count": 5,
   "metadata": {
    "collapsed": false
   },
   "outputs": [],
   "source": [
    "visualiseCorr(corr)\n",
    "tcorr = threshhold(corr, 0.005)\n",
    "visualiseCorr(tcorr)\n",
    "ncorr = postprocess(tcorr, windowsize)\n",
    "visualiseCorr(ncorr)"
   ]
  },
  {
   "cell_type": "code",
   "execution_count": 6,
   "metadata": {
    "collapsed": false
   },
   "outputs": [],
   "source": [
    "master = np.genfromtxt(\n",
    "    'master.csv',           # file name\n",
    "    skip_header=5,          # lines to skip at the top\n",
    "    skip_footer=0,          # lines to skip at the bottom\n",
    "    delimiter=',',          # column delimiter\n",
    "    dtype='float64',        # data type\n",
    "    filling_values=0,       # fill missing values with 0\n",
    "    usecols = (0,1),    # columns to read\n",
    "    names=['Time', ',Ampl'])     # column names\n",
    "slave = np.genfromtxt(\n",
    "    'slave.csv',           # file name\n",
    "    skip_header=5,          # lines to skip at the top\n",
    "    skip_footer=0,          # lines to skip at the bottom\n",
    "    delimiter=',',          # column delimiter\n",
    "    dtype='float32',        # data type\n",
    "    filling_values=0,       # fill missing values with 0\n",
    "    usecols = (0,1),    # columns to read\n",
    "    names=['Time', 'Ampl'])     # column names"
   ]
  },
  {
   "cell_type": "code",
   "execution_count": null,
   "metadata": {
    "collapsed": false
   },
   "outputs": [
    {
     "name": "stdout",
     "output_type": "stream",
     "text": [
      "400002 400002\n"
     ]
    }
   ],
   "source": [
    "a = master['Ampl']\n",
    "b = slave['Ampl']\n",
    "print(len(a), len(b))"
   ]
  },
  {
   "cell_type": "code",
   "execution_count": null,
   "metadata": {
    "collapsed": false
   },
   "outputs": [
    {
     "name": "stdout",
     "output_type": "stream",
     "text": [
      "total jobs: 399\n",
      "0 4\n"
     ]
    }
   ],
   "source": [
    "windowsize = 1000\n",
    "corr = correlate(a[1000:], b[1000:], windowsize)"
   ]
  },
  {
   "cell_type": "code",
   "execution_count": null,
   "metadata": {
    "collapsed": false
   },
   "outputs": [],
   "source": []
  }
 ],
 "metadata": {
  "hide_input": true,
  "kernelspec": {
   "display_name": "Python 3",
   "language": "python",
   "name": "python3"
  },
  "language_info": {
   "codemirror_mode": {
    "name": "ipython",
    "version": 3
   },
   "file_extension": ".py",
   "mimetype": "text/x-python",
   "name": "python",
   "nbconvert_exporter": "python",
   "pygments_lexer": "ipython3",
   "version": "3.5.2"
  },
  "latex_envs": {
   "bibliofile": "biblio.bib",
   "cite_by": "apalike",
   "current_citInitial": 1,
   "eqLabelWithNumbers": true,
   "eqNumInitial": 0
  }
 },
 "nbformat": 4,
 "nbformat_minor": 1
}
