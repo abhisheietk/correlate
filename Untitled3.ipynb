{
 "cells": [
  {
   "cell_type": "code",
   "execution_count": 1,
   "metadata": {
    "collapsed": false
   },
   "outputs": [],
   "source": [
    "import matplotlib\n",
    "import numpy as np\n",
    "import matplotlib.pyplot as plt\n",
    "from scipy.signal import argrelextrema\n",
    "from scipy.fftpack import rfft, irfft, fftfreq\n",
    "import pickle\n",
    "import os\n",
    "\n",
    "master = np.genfromtxt(\n",
    "    'C13-7.300000.csv',           # file name\n",
    "    skip_header=5,          # lines to skip at the top\n",
    "    skip_footer=0,          # lines to skip at the bottom\n",
    "    delimiter=',',          # column delimiter\n",
    "    dtype='float64',        # data type\n",
    "    filling_values=0,       # fill missing values with 0\n",
    "    usecols = (0,1),    # columns to read\n",
    "    names=['Time', ',Ampl'])     # column names\n",
    "slave = np.genfromtxt(\n",
    "    'C23-7.300000.csv',           # file name\n",
    "    skip_header=5,          # lines to skip at the top\n",
    "    skip_footer=0,          # lines to skip at the bottom\n",
    "    delimiter=',',          # column delimiter\n",
    "    dtype='float32',        # data type\n",
    "    filling_values=0,       # fill missing values with 0\n",
    "    usecols = (0,1),    # columns to read\n",
    "    names=['Time', 'Ampl'])     # column names\n",
    "MData = master['Ampl']\n",
    "SData = slave['Ampl']"
   ]
  },
  {
   "cell_type": "code",
   "execution_count": 2,
   "metadata": {
    "collapsed": false
   },
   "outputs": [
    {
     "name": "stdout",
     "output_type": "stream",
     "text": [
      "400002\n"
     ]
    }
   ],
   "source": [
    "import matplotlib.pyplot as plt\n",
    "print(len(master))\n",
    "\n",
    "f_MData = rfft(MData)\n",
    "f_SData = rfft(SData)\n",
    "\n",
    "for j in range(10):\n",
    "    f_MData[j] = 0\n",
    "    f_SData[j] = 0\n",
    "    \n",
    "MData = irfft(f_MData)\n",
    "SData = irfft(f_SData)\n",
    "\n",
    "plt.plot(MData[0:100])\n",
    "plt.plot(SData[0:100])\n",
    "plt.ylabel('some numbers')\n",
    "plt.show()"
   ]
  },
  {
   "cell_type": "code",
   "execution_count": 3,
   "metadata": {
    "collapsed": false
   },
   "outputs": [
    {
     "name": "stdout",
     "output_type": "stream",
     "text": [
      "400\n"
     ]
    }
   ],
   "source": [
    "from scipy.fftpack import rfft, irfft, fftfreq\n",
    "x = MData #[0:100000]\n",
    "y = SData #[0:100000]\n",
    "\n",
    "windowsize = 100000\n",
    "def correlate(x, y, windowsize):\n",
    "    #print(len(x),len(y), windowsize)\n",
    "    if windowsize >= len(x):\n",
    "        return\n",
    "    corr = []\n",
    "    for i in range(len(x)-windowsize):\n",
    "        corr.append(np.corrcoef(x[i:windowsize+i], y[0:windowsize])[0,1])\n",
    "    #print(corr)\n",
    "    return np.array(corr)\n",
    "\n",
    "windows = int(len(MData)/1000)\n",
    "print(windows)\n",
    "\n",
    "#corr = []\n",
    "#for i in range(20):\n",
    "#    corr.append(correlate(x[i*windowsize:i*windowsize+100000], y[i*windowsize:(i+1)*windowsize], windowsize))"
   ]
  },
  {
   "cell_type": "code",
   "execution_count": 4,
   "metadata": {
    "collapsed": false
   },
   "outputs": [
    {
     "ename": "NameError",
     "evalue": "name 'corr' is not defined",
     "output_type": "error",
     "traceback": [
      "\u001b[0;31m---------------------------------------------------------------------------\u001b[0m",
      "\u001b[0;31mNameError\u001b[0m                                 Traceback (most recent call last)",
      "\u001b[0;32m<ipython-input-4-5f86509e65da>\u001b[0m in \u001b[0;36m<module>\u001b[0;34m()\u001b[0m\n\u001b[0;32m----> 1\u001b[0;31m \u001b[0;32mfor\u001b[0m \u001b[0mi\u001b[0m \u001b[0;32min\u001b[0m \u001b[0mcorr\u001b[0m\u001b[0;34m:\u001b[0m\u001b[0;34m\u001b[0m\u001b[0m\n\u001b[0m\u001b[1;32m      2\u001b[0m     \u001b[0mncorr\u001b[0m \u001b[0;34m=\u001b[0m \u001b[0mncorr\u001b[0m \u001b[0;34m+\u001b[0m \u001b[0mi\u001b[0m\u001b[0;34m\u001b[0m\u001b[0m\n\u001b[1;32m      3\u001b[0m \u001b[0msweep\u001b[0m \u001b[0;34m=\u001b[0m \u001b[0mnp\u001b[0m\u001b[0;34m.\u001b[0m\u001b[0margmax\u001b[0m\u001b[0;34m(\u001b[0m\u001b[0mncorr\u001b[0m\u001b[0;34m)\u001b[0m\u001b[0;34m\u001b[0m\u001b[0m\n\u001b[1;32m      4\u001b[0m \u001b[0mprint\u001b[0m\u001b[0;34m(\u001b[0m\u001b[0msweep\u001b[0m\u001b[0;34m)\u001b[0m\u001b[0;34m\u001b[0m\u001b[0m\n\u001b[1;32m      5\u001b[0m \u001b[0mplt\u001b[0m\u001b[0;34m.\u001b[0m\u001b[0mplot\u001b[0m\u001b[0;34m(\u001b[0m\u001b[0mncorr\u001b[0m\u001b[0;34m[\u001b[0m\u001b[0;34m:\u001b[0m\u001b[0;36m1000\u001b[0m\u001b[0;34m]\u001b[0m\u001b[0;34m)\u001b[0m\u001b[0;34m\u001b[0m\u001b[0m\n",
      "\u001b[0;31mNameError\u001b[0m: name 'corr' is not defined"
     ]
    }
   ],
   "source": [
    "for i in corr:    \n",
    "    ncorr = ncorr + i\n",
    "sweep = np.argmax(ncorr)\n",
    "print(sweep)\n",
    "plt.plot(ncorr[:1000])\n",
    "plt.ylabel('some numbers')\n",
    "plt.show()"
   ]
  },
  {
   "cell_type": "code",
   "execution_count": 5,
   "metadata": {
    "collapsed": false
   },
   "outputs": [
    {
     "ename": "NameError",
     "evalue": "name 'sweep' is not defined",
     "output_type": "error",
     "traceback": [
      "\u001b[0;31m---------------------------------------------------------------------------\u001b[0m",
      "\u001b[0;31mNameError\u001b[0m                                 Traceback (most recent call last)",
      "\u001b[0;32m<ipython-input-5-b18ddf65683f>\u001b[0m in \u001b[0;36m<module>\u001b[0;34m()\u001b[0m\n\u001b[1;32m      2\u001b[0m \u001b[0mMax\u001b[0m \u001b[0;34m=\u001b[0m \u001b[0;36m9\u001b[0m\u001b[0;34m*\u001b[0m\u001b[0mwindowsize\u001b[0m\u001b[0;34m+\u001b[0m\u001b[0;36m1000\u001b[0m\u001b[0;34m\u001b[0m\u001b[0m\n\u001b[1;32m      3\u001b[0m \u001b[0;34m\u001b[0m\u001b[0m\n\u001b[0;32m----> 4\u001b[0;31m \u001b[0mplt\u001b[0m\u001b[0;34m.\u001b[0m\u001b[0mplot\u001b[0m\u001b[0;34m(\u001b[0m\u001b[0mMData\u001b[0m\u001b[0;34m[\u001b[0m\u001b[0msweep\u001b[0m\u001b[0;34m+\u001b[0m\u001b[0mMin\u001b[0m\u001b[0;34m:\u001b[0m\u001b[0msweep\u001b[0m\u001b[0;34m+\u001b[0m\u001b[0mMax\u001b[0m\u001b[0;34m]\u001b[0m\u001b[0;34m)\u001b[0m\u001b[0;34m\u001b[0m\u001b[0m\n\u001b[0m\u001b[1;32m      5\u001b[0m \u001b[0mplt\u001b[0m\u001b[0;34m.\u001b[0m\u001b[0mplot\u001b[0m\u001b[0;34m(\u001b[0m\u001b[0mSData\u001b[0m\u001b[0;34m[\u001b[0m\u001b[0mMin\u001b[0m\u001b[0;34m:\u001b[0m\u001b[0mMax\u001b[0m\u001b[0;34m]\u001b[0m\u001b[0;34m)\u001b[0m\u001b[0;34m\u001b[0m\u001b[0m\n\u001b[1;32m      6\u001b[0m \u001b[0mplt\u001b[0m\u001b[0;34m.\u001b[0m\u001b[0mylabel\u001b[0m\u001b[0;34m(\u001b[0m\u001b[0;34m'some numbers'\u001b[0m\u001b[0;34m)\u001b[0m\u001b[0;34m\u001b[0m\u001b[0m\n",
      "\u001b[0;31mNameError\u001b[0m: name 'sweep' is not defined"
     ]
    }
   ],
   "source": [
    "Min = 9*windowsize\n",
    "Max = 9*windowsize+1000\n",
    "\n",
    "plt.plot(MData[sweep+Min:sweep+Max])\n",
    "plt.plot(SData[Min:Max])\n",
    "plt.ylabel('some numbers')\n",
    "plt.show()"
   ]
  },
  {
   "cell_type": "code",
   "execution_count": null,
   "metadata": {
    "collapsed": false
   },
   "outputs": [],
   "source": [
    "sweep = 0\n",
    "corr = correlate(x[sweep:], y, windowsize)\n",
    "sweep = np.argmax(corr)\n",
    "plt.plot(MData[sweep:3000+sweep])\n",
    "plt.plot(SData[0:3000])\n",
    "#plt.plot(slave['Ampl'][300+x:10000+x])#, slave['Ampl'][0+x:1000+x])\n",
    "#plt.plot()\n",
    "print(sweep)\n",
    "plt.ylabel('some numbers')\n",
    "plt.show()"
   ]
  },
  {
   "cell_type": "code",
   "execution_count": null,
   "metadata": {
    "collapsed": false
   },
   "outputs": [],
   "source": [
    "for i in range(10):\n",
    "    corr = correlate(x[sweep+i*windowsize:], y[i*windowsize:], windowsize)\n",
    "    if corr == None:\n",
    "        print(i)\n",
    "        break\n",
    "    sweep += np.argmax(corr)\n",
    "    plt.plot(MData[sweep+i*windowsize:sweep+i*windowsize+800])\n",
    "    plt.plot(SData[i*windowsize:i*windowsize+800])\n",
    "    print(sweep)\n",
    "    plt.ylabel('some numbers')\n",
    "    plt.show()"
   ]
  },
  {
   "cell_type": "code",
   "execution_count": null,
   "metadata": {
    "collapsed": false
   },
   "outputs": [],
   "source": [
    "print(len(MData))\n",
    "print(sweep)\n",
    "Min = 2*windowsize-100\n",
    "Max = 2*windowsize+100\n",
    "plt.plot(MData[sweep+Min:sweep+Max])\n",
    "plt.plot(SData[Min:Max])\n",
    "plt.ylabel('some numbers')\n",
    "plt.show()\n",
    "plt.plot(MData[sweep+Min:sweep+Max], SData[Min:Max])\n",
    "plt.ylabel('some numbers')\n",
    "plt.show()\n",
    "print(3*windowsize-100)"
   ]
  },
  {
   "cell_type": "code",
   "execution_count": null,
   "metadata": {
    "collapsed": false
   },
   "outputs": [],
   "source": [
    "\n",
    "plt.plot(corr[:1000])\n",
    "plt.ylabel('some numbers')\n",
    "plt.show()"
   ]
  },
  {
   "cell_type": "code",
   "execution_count": null,
   "metadata": {
    "collapsed": false
   },
   "outputs": [],
   "source": [
    "from scipy.signal import argrelextrema\n",
    "lmax = argrelextrema(corr, np.greater)\n",
    "print(lmax)\n",
    "mcorr = []\n",
    "for i in lmax:\n",
    "    mcorr.append(corr[i])\n",
    "#dcorr = np.diff(corr)\n",
    "plt.plot(mcorr)\n",
    "plt.ylabel('some numbers')\n",
    "plt.show()"
   ]
  },
  {
   "cell_type": "code",
   "execution_count": null,
   "metadata": {
    "collapsed": false
   },
   "outputs": [],
   "source": [
    "len(corr)"
   ]
  },
  {
   "cell_type": "code",
   "execution_count": null,
   "metadata": {
    "collapsed": false
   },
   "outputs": [],
   "source": [
    "len(lmax)"
   ]
  },
  {
   "cell_type": "code",
   "execution_count": null,
   "metadata": {
    "collapsed": false
   },
   "outputs": [],
   "source": [
    "x = np.random.random(12)\n",
    "\n",
    "# for local maxima\n",
    "print(argrelextrema(x, np.greater))\n",
    "\n",
    "# for local minima\n",
    "print(argrelextrema(x, np.less))"
   ]
  },
  {
   "cell_type": "code",
   "execution_count": null,
   "metadata": {
    "collapsed": false
   },
   "outputs": [],
   "source": [
    "print(len(corr))\n",
    "lmax = argrelextrema(corr, np.greater)\n",
    "lmax = np.array(lmax).flatten()\n",
    "print(len(lmax))\n",
    "j = 0\n",
    "mcorr = []\n",
    "for i in range(len(corr)):\n",
    "    if i == lmax[j]:\n",
    "        j += 1\n",
    "        if j == len(lmax):\n",
    "            break\n",
    "    mcorr.append(corr[lmax[j]])\n",
    "mcorr = np.array(mcorr)    \n",
    "    \n",
    "#mcorr = np.array([corr[i] for i in lmax.flatten()])\n",
    "print(mcorr)\n",
    "print(lmax)\n",
    "print(corr[4])\n",
    "plt.plot(mcorr[:1000])\n",
    "plt.plot(corr[:1000])\n",
    "plt.ylabel('some numbers')\n",
    "plt.show()"
   ]
  },
  {
   "cell_type": "code",
   "execution_count": null,
   "metadata": {
    "collapsed": true
   },
   "outputs": [],
   "source": []
  },
  {
   "cell_type": "code",
   "execution_count": null,
   "metadata": {
    "collapsed": true
   },
   "outputs": [],
   "source": []
  },
  {
   "cell_type": "code",
   "execution_count": null,
   "metadata": {
    "collapsed": true
   },
   "outputs": [],
   "source": []
  }
 ],
 "metadata": {
  "hide_input": true,
  "kernelspec": {
   "display_name": "Python 3",
   "language": "python",
   "name": "python3"
  },
  "language_info": {
   "codemirror_mode": {
    "name": "ipython",
    "version": 3
   },
   "file_extension": ".py",
   "mimetype": "text/x-python",
   "name": "python",
   "nbconvert_exporter": "python",
   "pygments_lexer": "ipython3",
   "version": "3.5.2"
  },
  "latex_envs": {
   "bibliofile": "biblio.bib",
   "cite_by": "apalike",
   "current_citInitial": 1,
   "eqLabelWithNumbers": true,
   "eqNumInitial": 0
  }
 },
 "nbformat": 4,
 "nbformat_minor": 1
}
